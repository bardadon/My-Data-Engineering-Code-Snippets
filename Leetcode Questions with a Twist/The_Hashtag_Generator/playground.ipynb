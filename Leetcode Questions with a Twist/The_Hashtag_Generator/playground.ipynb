{
 "cells": [
  {
   "cell_type": "code",
   "execution_count": 2,
   "metadata": {},
   "outputs": [
    {
     "data": {
      "text/html": [
       "<div>\n",
       "<style scoped>\n",
       "    .dataframe tbody tr th:only-of-type {\n",
       "        vertical-align: middle;\n",
       "    }\n",
       "\n",
       "    .dataframe tbody tr th {\n",
       "        vertical-align: top;\n",
       "    }\n",
       "\n",
       "    .dataframe thead th {\n",
       "        text-align: right;\n",
       "    }\n",
       "</style>\n",
       "<table border=\"1\" class=\"dataframe\">\n",
       "  <thead>\n",
       "    <tr style=\"text-align: right;\">\n",
       "      <th></th>\n",
       "      <th>string</th>\n",
       "    </tr>\n",
       "  </thead>\n",
       "  <tbody>\n",
       "    <tr>\n",
       "      <th>0</th>\n",
       "      <td>test1</td>\n",
       "    </tr>\n",
       "    <tr>\n",
       "      <th>1</th>\n",
       "      <td>test2</td>\n",
       "    </tr>\n",
       "    <tr>\n",
       "      <th>2</th>\n",
       "      <td>Hello</td>\n",
       "    </tr>\n",
       "    <tr>\n",
       "      <th>3</th>\n",
       "      <td>Hello there thanks for trying my Kata</td>\n",
       "    </tr>\n",
       "    <tr>\n",
       "      <th>4</th>\n",
       "      <td>Hello     World</td>\n",
       "    </tr>\n",
       "  </tbody>\n",
       "</table>\n",
       "</div>"
      ],
      "text/plain": [
       "                                   string\n",
       "0                                   test1\n",
       "1                                   test2\n",
       "2                                   Hello\n",
       "3   Hello there thanks for trying my Kata\n",
       "4                      Hello     World   "
      ]
     },
     "execution_count": 2,
     "metadata": {},
     "output_type": "execute_result"
    }
   ],
   "source": [
    "import pandas as pd\n",
    "\n",
    "\n",
    "test_string = pd.read_csv('input_data.csv')\n",
    "test_string"
   ]
  },
  {
   "cell_type": "code",
   "execution_count": 25,
   "metadata": {},
   "outputs": [],
   "source": [
    "def generate_hashtag():\n",
    "\n",
    "    def process_hashtag(s):\n",
    "\n",
    "        if len(s) < 1:\n",
    "            return False\n",
    "\n",
    "        string = '#' + s.title().replace(' ', '')\n",
    "\n",
    "        if len(string) > 140:\n",
    "            return False\n",
    "        else:\n",
    "            return string\n",
    "\n",
    "\n",
    "    input_strings = pd.read_csv('input_data.csv')\n",
    "    input_list = test_string.string.to_list()\n",
    "    input_results = dict()\n",
    "\n",
    "    for input_data in input_list:\n",
    "        input_results[input_data] = process_hashtag(input_data)\n",
    "\n",
    "\n",
    "\n",
    "    df = pd.DataFrame.from_dict(input_results.items())\n",
    "    df.rename({0:'Input', 1:'Solution'}, axis=1, inplace = True)\n",
    "    df.to_csv('solution.csv', index=None)\n",
    "\n",
    "\n",
    "generate_hashtag()"
   ]
  },
  {
   "cell_type": "code",
   "execution_count": null,
   "metadata": {},
   "outputs": [],
   "source": []
  }
 ],
 "metadata": {
  "kernelspec": {
   "display_name": "Python 3.10.6 64-bit",
   "language": "python",
   "name": "python3"
  },
  "language_info": {
   "codemirror_mode": {
    "name": "ipython",
    "version": 3
   },
   "file_extension": ".py",
   "mimetype": "text/x-python",
   "name": "python",
   "nbconvert_exporter": "python",
   "pygments_lexer": "ipython3",
   "version": "3.10.6"
  },
  "orig_nbformat": 4,
  "vscode": {
   "interpreter": {
    "hash": "916dbcbb3f70747c44a77c7bcd40155683ae19c65e1c03b4aa3499c5328201f1"
   }
  }
 },
 "nbformat": 4,
 "nbformat_minor": 2
}
